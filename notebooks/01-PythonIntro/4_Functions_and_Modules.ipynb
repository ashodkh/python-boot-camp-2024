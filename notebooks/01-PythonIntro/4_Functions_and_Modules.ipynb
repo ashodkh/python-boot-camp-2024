{
 "cells": [
  {
   "cell_type": "markdown",
   "metadata": {},
   "source": [
    "Before we begin:\n",
    "\n",
    "<span style=\"font-size:1.5em;\">Goal:</span> By the end of this lesson you should:\n",
    "\n",
    "- Understand how to execute code conditionally\n",
    "- Understand how to loop over a limited sequence\n",
    "- Understand how to loop conditionally\n",
    "\n",
    "<span style=\"color:Red\">**Red Text**</span> is used to highlight the most important lessons and takeaways\n",
    "\n",
    "<span style=\"color:MediumBlue\">Blue Text</span> is used to highlight info that is generally helpful to know, but is not strictly necessary to understand in-depth or commit to memory\n",
    "\n",
    "<span style=\"color:MediumSeaGreen\">Green Text</span> is used to highlight really granular information that you can safely ignore. It's there for reference later if helpful\n",
    "\n",
    "<ins>Underlined Text</ins> is used for Glossary Terms"
   ]
  },
  {
   "cell_type": "markdown",
   "metadata": {},
   "source": [
    "# Functions and Modules"
   ]
  },
  {
   "cell_type": "markdown",
   "metadata": {},
   "source": [
    "## Glossary"
   ]
  },
  {
   "cell_type": "markdown",
   "metadata": {},
   "source": [
    "- argument : an Object passed to a function for use in the function's code block\n",
    "- assign : `=`, setting the value of a variable\n",
    "- control flow: how decision making is made in code. Conditional code execution\n",
    "- immutable : unable to be changed. Once the object is created, it's data remains unchanged. New Objects must be made to enact any kind of change\n",
    "- indexable : aka subscriptable. Something that has a sequential structure/order and it's members can be retrieved via that order using an index, \"give me the third one\"\n",
    "- in-place : operating on the original thing. Works for mutable objects because you don't need to create a new Object\n",
    "- instantiation : to create an instance of, aka to create an Object. Done using class constructors for non-built-in types\n",
    "- iterable : able to be iterated over / able to generate an Iterator object (more info in a future lecture). Can be parsed in sequence: \"look at the first value, then the second, then the third\"\n",
    "- logical : tied to boolean logic; decision making based on conditional \"if this is true, do this thing, otherwise do the other thing\"\n",
    "- method : a function / action. The things that objects do. (more in a future lecture)\n",
    "- object : a thing. Specifically a thing that has stuff and does stuff. They \"perform\" the methods. Everything is an object in Python\n",
    "- return : the \"response\" to a call. If I ask you how tall you are and you give me a number, that's the return"
   ]
  },
  {
   "cell_type": "markdown",
   "metadata": {},
   "source": [
    "# Functions"
   ]
  },
  {
   "cell_type": "markdown",
   "metadata": {},
   "source": [
    "<span style=\"color:Red\">**A function (also called a <ins>method</ins>) is a block of code that runs when it is called.**</span> They are the \"actions\" that objects perform\n",
    "\n",
    "<span style=\"color:MediumBlue\">Functions are also Objects, and can be used as such. Some functions have their own functions.</span>\n",
    "\n",
    "<span style=\"color:Red\">Functions \"take\" or \"can be passed\" <ins>arguments</ins>, which are Objects used in that block of code</span>"
   ]
  },
  {
   "cell_type": "markdown",
   "metadata": {},
   "source": [
    "## Syntax"
   ]
  },
  {
   "cell_type": "markdown",
   "metadata": {
    "slideshow": {
     "slide_type": "slide"
    }
   },
   "source": [
    "<span style=\"color:Red\">**The syntax for a function is:**</span>\n",
    "    \n",
    "    def function_name(arguments):\n",
    "        # code here\n",
    "        return values"
   ]
  },
  {
   "cell_type": "markdown",
   "metadata": {
    "slideshow": {
     "slide_type": "slide"
    }
   },
   "source": [
    "<span style=\"color:Red\">Similarly to ``if`` statements and ``for`` and ``while`` loops, indentation is very important because it shows where the function starts and ends.</span>\n",
    "\n",
    "<span style=\"color:MediumBlue\">**Note**: it is a common convention to use lowercase verbs / verb phrases for functions</span>"
   ]
  },
  {
   "cell_type": "markdown",
   "metadata": {
    "slideshow": {
     "slide_type": "slide"
    }
   },
   "source": [
    "A function can take multiple arguments..."
   ]
  },
  {
   "cell_type": "code",
   "execution_count": null,
   "metadata": {
    "ExecuteTime": {
     "end_time": "2022-05-21T12:48:42.483443Z",
     "start_time": "2022-05-21T12:48:42.477842Z"
    }
   },
   "outputs": [],
   "source": [
    "def add(a, b):\n",
    "    return a + b\n",
    "\n",
    "print(add(1, 3))\n",
    "print(add(1., 3.2))\n",
    "print(add(4, 3.))"
   ]
  },
  {
   "cell_type": "markdown",
   "metadata": {
    "slideshow": {
     "slide_type": "slide"
    }
   },
   "source": [
    "<span style=\"color:MediumBlue\">... and can also return multiple values using a tuple (or a list if you prefer):</span>"
   ]
  },
  {
   "cell_type": "code",
   "execution_count": null,
   "metadata": {
    "ExecuteTime": {
     "end_time": "2022-05-21T12:50:11.591266Z",
     "start_time": "2022-05-21T12:50:11.588402Z"
    }
   },
   "outputs": [],
   "source": [
    "def double_and_halve(value):\n",
    "    return value * 2., value / 2.\n",
    "\n",
    "print(double_and_halve(5.))"
   ]
  },
  {
   "cell_type": "markdown",
   "metadata": {
    "slideshow": {
     "slide_type": "slide"
    }
   },
   "source": [
    "<span style=\"color:MediumBlue\">If multiple values are returned, you can store them in separate variables (also called unpacking)</span>"
   ]
  },
  {
   "cell_type": "code",
   "execution_count": null,
   "metadata": {
    "ExecuteTime": {
     "end_time": "2022-05-21T12:51:59.228811Z",
     "start_time": "2022-05-21T12:51:59.225508Z"
    }
   },
   "outputs": [],
   "source": [
    "d, h = double_and_halve(5.)"
   ]
  },
  {
   "cell_type": "code",
   "execution_count": null,
   "metadata": {
    "ExecuteTime": {
     "end_time": "2022-05-21T12:52:00.126473Z",
     "start_time": "2022-05-21T12:52:00.124041Z"
    }
   },
   "outputs": [],
   "source": [
    "print(d)"
   ]
  },
  {
   "cell_type": "code",
   "execution_count": null,
   "metadata": {
    "ExecuteTime": {
     "end_time": "2022-05-21T12:52:01.200631Z",
     "start_time": "2022-05-21T12:52:01.196631Z"
    }
   },
   "outputs": [],
   "source": [
    "print(h)"
   ]
  },
  {
   "cell_type": "markdown",
   "metadata": {
    "slideshow": {
     "slide_type": "slide"
    }
   },
   "source": [
    "Functions can call other functions:"
   ]
  },
  {
   "cell_type": "code",
   "execution_count": null,
   "metadata": {
    "ExecuteTime": {
     "end_time": "2022-05-21T12:52:27.738455Z",
     "start_time": "2022-05-21T12:52:27.733799Z"
    }
   },
   "outputs": [],
   "source": [
    "def do_a():\n",
    "    print(\"doing A\")\n",
    "    \n",
    "def do_b():\n",
    "    print(\"doing B\")\n",
    "    \n",
    "def do_a_and_b():\n",
    "    do_a()\n",
    "    do_b()"
   ]
  },
  {
   "cell_type": "code",
   "execution_count": null,
   "metadata": {
    "ExecuteTime": {
     "end_time": "2022-05-21T12:52:29.526558Z",
     "start_time": "2022-05-21T12:52:29.524025Z"
    },
    "slideshow": {
     "slide_type": "slide"
    }
   },
   "outputs": [],
   "source": [
    "do_a_and_b()"
   ]
  },
  {
   "cell_type": "markdown",
   "metadata": {},
   "source": [
    "Reminder from previous lectures:\n",
    "\n",
    "<span style=\"color:MediumBlue\">If a function does not have an explicit `return` statement, it defaults to returning the `None` object</span>"
   ]
  },
  {
   "cell_type": "markdown",
   "metadata": {},
   "source": [
    "### Exercise 1"
   ]
  },
  {
   "cell_type": "code",
   "execution_count": null,
   "metadata": {
    "ExecuteTime": {
     "end_time": "2022-05-21T13:27:01.536955Z",
     "start_time": "2022-05-21T13:27:01.533568Z"
    }
   },
   "outputs": [],
   "source": [
    "def find_primes(max_prime):\n",
    "    \"\"\"Return a list of all primes up to `max_prime`\"\"\"\n",
    "    \n",
    "    primes = []\n",
    "    for num in range(2, max_prime + 1):\n",
    "        for i in range(2, num):\n",
    "            if (num % i) == 0:\n",
    "                # num is divisible by i\n",
    "                # therefore, num is not a prime\n",
    "                break\n",
    "        else:\n",
    "            primes.append(num)\n",
    "    \n",
    "    return primes"
   ]
  },
  {
   "cell_type": "code",
   "execution_count": null,
   "metadata": {
    "ExecuteTime": {
     "end_time": "2022-05-21T13:27:14.204812Z",
     "start_time": "2022-05-21T13:27:14.200454Z"
    }
   },
   "outputs": [],
   "source": [
    "find_primes(10)"
   ]
  },
  {
   "cell_type": "markdown",
   "metadata": {},
   "source": [
    "Copy the code above that finds prime numbers here and modify it so as to make it a function that given a number will return ``True`` or ``False`` depending on whether it is prime."
   ]
  },
  {
   "cell_type": "code",
   "execution_count": null,
   "metadata": {},
   "outputs": [],
   "source": [
    "# your solution here\n"
   ]
  },
  {
   "cell_type": "markdown",
   "metadata": {},
   "source": [
    "### Exercise 2"
   ]
  },
  {
   "cell_type": "markdown",
   "metadata": {},
   "source": [
    "Try and write a function that will return the factorial of a number (e.g. ``5!=5*4*3*2*1``). First you can try and write a function that uses a loop internally."
   ]
  },
  {
   "cell_type": "code",
   "execution_count": null,
   "metadata": {},
   "outputs": [],
   "source": [
    "# your solution here\n"
   ]
  },
  {
   "cell_type": "markdown",
   "metadata": {},
   "source": [
    "## Optional Arguments"
   ]
  },
  {
   "cell_type": "markdown",
   "metadata": {},
   "source": [
    "In addition to normal arguments, <span style=\"color:Red\">**functions can take optional arguments that are defaulted to a certain value.**</span> For example, in the following case:"
   ]
  },
  {
   "cell_type": "code",
   "execution_count": null,
   "metadata": {
    "ExecuteTime": {
     "end_time": "2022-05-21T13:49:15.760803Z",
     "start_time": "2022-05-21T13:49:15.757316Z"
    }
   },
   "outputs": [],
   "source": [
    "def say_hello(first_name, middle_name='', last_name=''):\n",
    "    print(\"First name: \" + first_name)\n",
    "    if middle_name != '':\n",
    "        print(\"Middle name: \" + middle_name)\n",
    "    if last_name != '':\n",
    "        print(\"Last name: \" + last_name)"
   ]
  },
  {
   "cell_type": "markdown",
   "metadata": {},
   "source": [
    "we can call the function either with one argument:"
   ]
  },
  {
   "cell_type": "code",
   "execution_count": null,
   "metadata": {
    "ExecuteTime": {
     "end_time": "2022-05-21T13:49:16.984252Z",
     "start_time": "2022-05-21T13:49:16.980337Z"
    }
   },
   "outputs": [],
   "source": [
    "say_hello(\"Bee\")"
   ]
  },
  {
   "cell_type": "markdown",
   "metadata": {},
   "source": [
    "Two arguments:"
   ]
  },
  {
   "cell_type": "code",
   "execution_count": null,
   "metadata": {},
   "outputs": [],
   "source": [
    "say_hello(\"Bee\", \"Be\")"
   ]
  },
  {
   "cell_type": "markdown",
   "metadata": {},
   "source": [
    "Or all three:"
   ]
  },
  {
   "cell_type": "code",
   "execution_count": null,
   "metadata": {},
   "outputs": [],
   "source": [
    "say_hello(\"Bee\", \"Be\", \"Eight\")"
   ]
  },
  {
   "cell_type": "markdown",
   "metadata": {},
   "source": [
    "In the above example, only the first_name is a required argument.\n",
    "***"
   ]
  },
  {
   "cell_type": "markdown",
   "metadata": {},
   "source": [
    "## Positional and Keyword Arguments"
   ]
  },
  {
   "cell_type": "markdown",
   "metadata": {},
   "source": [
    "Arguments to functions can be passed both positionally and by keyword\n",
    "\n",
    "<span style=\"color:Red\">**Positional arguments are those that are given in order - the same order that they are defined as.**</span>\n",
    "\n",
    "For example, in\n",
    "\n",
    "    def calculate_cone_volume(radius, height):\n",
    "        # code here\n",
    "        return volume\n",
    "\n",
    "The order of the parameters is radius, then height.\n",
    "\n",
    "calling `calculate_cone_volume(local_height, local_radius)` will return an incorrect result, because the function will believe the radius is the height and vice versa\n",
    "\n",
    "<span style=\"color:Red\">**Keyword arguments (kwargs) are ones passed with a specification on which function parameter is being mapped to which given argument**</span>\n",
    "\n",
    "<span style=\"color:MediumBlue\">Using kwargs, arguments can be given out of order:</span>\n",
    "\n",
    "`calculate_cone_volume(height=local_height, radius=local_radius)` will return a **correct** result\n",
    "\n",
    "<span style=\"font-size:1.20em;\">NOTE:</span> \n",
    "\n",
    "<span style=\"color:Red\">**Both positional and keyword args can be passed to the same function, but positional MUST all come first**</span>\n",
    "\n",
    "<span style=\"color:MediumBlue\">Keyword args are particularly useful for functions with many defaulted / optional parameters (next section), where you will not pass some of the defaulted arguments but need to set others</span>\n",
    "\n",
    "Consider this function again:"
   ]
  },
  {
   "cell_type": "code",
   "execution_count": 5,
   "metadata": {},
   "outputs": [],
   "source": [
    "def say_hello(first_name, middle_name='', last_name=''):\n",
    "    print(\"First name: \" + first_name)\n",
    "    if middle_name != '':\n",
    "        print(\"Middle name: \" + middle_name)\n",
    "    if last_name != '':\n",
    "        print(\"Last name: \" + last_name)"
   ]
  },
  {
   "cell_type": "markdown",
   "metadata": {},
   "source": [
    "We can use key-word arguments to skip the middle name but still provide the last name:"
   ]
  },
  {
   "cell_type": "code",
   "execution_count": null,
   "metadata": {
    "ExecuteTime": {
     "end_time": "2022-05-21T13:49:17.912103Z",
     "start_time": "2022-05-21T13:49:17.909984Z"
    }
   },
   "outputs": [],
   "source": [
    "say_hello(\"Bee\", last_name=\"Eight\")"
   ]
  },
  {
   "cell_type": "markdown",
   "metadata": {},
   "source": [
    "We cannot however pass keyword arguments before positional:"
   ]
  },
  {
   "cell_type": "code",
   "execution_count": null,
   "metadata": {
    "ExecuteTime": {
     "end_time": "2022-05-21T13:49:18.359488Z",
     "start_time": "2022-05-21T13:49:18.357150Z"
    }
   },
   "outputs": [],
   "source": [
    "say_hello(middle_name=\"Be\", last_name=\"Eight\", \"Bee\")"
   ]
  },
  {
   "cell_type": "markdown",
   "metadata": {},
   "source": [
    "We can pass required and optional arguments out of order using kwargs:"
   ]
  },
  {
   "cell_type": "code",
   "execution_count": null,
   "metadata": {
    "ExecuteTime": {
     "end_time": "2022-05-21T13:49:18.898274Z",
     "start_time": "2022-05-21T13:49:18.892779Z"
    }
   },
   "outputs": [],
   "source": [
    "say_hello(last_name=\"Eight\", middle_name=\"Be\", first_name=\"Bee\")"
   ]
  },
  {
   "cell_type": "markdown",
   "metadata": {},
   "source": [
    "<span style=\"font-size:1.40em;\">NOTE: When defining functions, required arguments MUST come before optional ones</span>\n",
    "***"
   ]
  },
  {
   "cell_type": "markdown",
   "metadata": {},
   "source": [
    "## Built-in functions"
   ]
  },
  {
   "cell_type": "markdown",
   "metadata": {
    "slideshow": {
     "slide_type": "slide"
    }
   },
   "source": [
    "As we've seen already, there are a few functions that are defined by default in Python:"
   ]
  },
  {
   "cell_type": "code",
   "execution_count": null,
   "metadata": {},
   "outputs": [],
   "source": [
    "x = [1,3,6,8,3]"
   ]
  },
  {
   "cell_type": "code",
   "execution_count": null,
   "metadata": {},
   "outputs": [],
   "source": [
    "len(x)"
   ]
  },
  {
   "cell_type": "code",
   "execution_count": null,
   "metadata": {
    "slideshow": {
     "slide_type": "slide"
    }
   },
   "outputs": [],
   "source": [
    "sum(x)"
   ]
  },
  {
   "cell_type": "code",
   "execution_count": null,
   "metadata": {
    "ExecuteTime": {
     "end_time": "2022-05-21T13:56:52.959700Z",
     "start_time": "2022-05-21T13:56:52.956316Z"
    }
   },
   "outputs": [],
   "source": [
    "pow(4, 2)"
   ]
  },
  {
   "cell_type": "markdown",
   "metadata": {
    "slideshow": {
     "slide_type": "slide"
    }
   },
   "source": [
    "A full list of built-in functions is available [here](http://docs.python.org/3/library/functions.html). Note that there are not *that* many - these are only the most common functions. Most functions are in fact kept inside **modules**, which we will cover next.\n",
    "***"
   ]
  },
  {
   "cell_type": "markdown",
   "metadata": {},
   "source": [
    "## Note on functional vs object-oriented programming"
   ]
  },
  {
   "cell_type": "markdown",
   "metadata": {},
   "source": [
    "You may have heard of \"functional\" vs. \"object-oriented\" programming. These are essentially two different philosophies, both of which can be applied in Python.\n",
    "\n",
    "<span style=\"color:MediumBlue\">**Functional programming**: A function should always return the same value, given the same input. There exist very few programming languages which are \"purely\" functional. However, many basic tasks are easiest to implement and read in a functional way. Returning a correct result is prioritized over the conceptual process of producing that result</span>\n",
    "\n",
    "<span style=\"color:MediumBlue\">**Object-oriented programming**: The return value of a function may depend on your program's state, and the function may alter your program's state. In OOP the conceptual \"process\" of producing the result is the focus</span>\n",
    "\n",
    "***\n",
    "\n",
    "Let's use an example of defining a function that returns all even numbers in a list.\n",
    "\n",
    "In an object-oriented approach, we conceptually would:\n",
    "1. Loop over all members of the list\n",
    "2. For each member, check if it is even\n",
    "3. If it is even, store it somewhere to return at the end\n",
    "4. At the end, return out list of just even numbers"
   ]
  },
  {
   "cell_type": "code",
   "execution_count": 10,
   "metadata": {
    "ExecuteTime": {
     "end_time": "2022-05-21T14:34:01.444918Z",
     "start_time": "2022-05-21T14:34:01.440361Z"
    }
   },
   "outputs": [],
   "source": [
    "# Functional approach\n",
    "def get_evens(li):\n",
    "    evens = []\n",
    "\n",
    "    for num in li:\n",
    "        if (num%2 == 0):\n",
    "            evens.append(num)\n",
    "            \n",
    "    return evens"
   ]
  },
  {
   "cell_type": "code",
   "execution_count": 12,
   "metadata": {},
   "outputs": [
    {
     "name": "stdout",
     "output_type": "stream",
     "text": [
      "[2, 4, 6, 8, 10]\n"
     ]
    }
   ],
   "source": [
    "# Test the function:\n",
    "print(get_evens([1, 2, 3, 4, 5, 6, 7, 8, 9, 10]))"
   ]
  },
  {
   "cell_type": "markdown",
   "metadata": {},
   "source": [
    "As the name implies, the OOP approach makes great conceptual \"sense\" in regards to concrete objects. For this example, you could think of flipping through index cards with numbers written on them, putting the even ones in a pile and ignoring the rest.\n",
    "\n",
    "Now let's try functional\n",
    "\n",
    "<span style=\"color:MediumBlue\">In a functional approach, we don't care about the conceptual methodology, we just want to return the correct result.</span>\n",
    "\n",
    "For this particular example, we'll use a list comprehension:"
   ]
  },
  {
   "cell_type": "code",
   "execution_count": 13,
   "metadata": {
    "ExecuteTime": {
     "end_time": "2022-05-21T14:33:50.200216Z",
     "start_time": "2022-05-21T14:33:50.195894Z"
    }
   },
   "outputs": [
    {
     "name": "stdout",
     "output_type": "stream",
     "text": [
      "[2, 4, 6, 8, 10]\n"
     ]
    }
   ],
   "source": [
    "def get_evens_listcomp(li):\n",
    "    return [x for x in li if x%2 ==0]\n",
    "\n",
    "print(get_evens_listcomp([1, 2, 3, 4, 5, 6, 7, 8, 9, 10]))"
   ]
  },
  {
   "cell_type": "markdown",
   "metadata": {},
   "source": [
    "<span style=\"color:MediumBlue\">Or an even more functional implementation use the `map()` and `filter()` and `reduce()` functions which operate on iterables</span>\n",
    "\n",
    "`map()` applies a function to all members of an iterable\n",
    "`filter()` filters all members of an iterable according to a function that produces boolean results\n",
    "`reduce()` is not built-in, but is imported with functools which implements many functions that take other functions as parameters. This one sequentially applies a function to members in an iterable\n",
    "\n",
    "<span style=\"color:MediumBlue\">I'll also use `lambda` to locally define a function (rather than wasting lines using `def function():` syntax)</span>"
   ]
  },
  {
   "cell_type": "code",
   "execution_count": 15,
   "metadata": {},
   "outputs": [
    {
     "name": "stdout",
     "output_type": "stream",
     "text": [
      "[2, 4, 6, 8, 10]\n"
     ]
    }
   ],
   "source": [
    "def get_evens_map(li):\n",
    "    return list(filter(lambda x: x%2==0, li))\n",
    "\n",
    "print(get_evens_map([1, 2, 3, 4, 5, 6, 7, 8, 9, 10]))"
   ]
  },
  {
   "cell_type": "markdown",
   "metadata": {},
   "source": [
    "You'll note, however, that having a single line function looks a little silly\n",
    "\n",
    "<span style=\"color:MediumBlue\">In functional programming, however, functions are frequently passed as parameters to other functions (much like the way lambda is passed to the filter)</span>\n",
    "\n",
    "If get_evens_map() does not need to be passed to anything, we might as well not use a function there and instead just use `list(filter(lambda x: x%2==0, li))` in-line as needed\n",
    "\n",
    "Let's look at another example we explored earlier, returning the factorial of a number:"
   ]
  },
  {
   "cell_type": "code",
   "execution_count": null,
   "metadata": {},
   "outputs": [],
   "source": [
    "import functools \n",
    "# Function 1 (our inner function)\n",
    "def multiply(x, y):\n",
    "    return x*y\n",
    "\n",
    "# Function 2 (our outer function)\n",
    "def factorial(n):\n",
    "    return functools.reduce(multiply, range(1, n+1))\n",
    "\n",
    "factorial(4)"
   ]
  },
  {
   "cell_type": "markdown",
   "metadata": {},
   "source": [
    "Above the `reduce()` function applies `multiply()` in sequence across the iterable\n",
    "\n",
    "for $n = 4$, the iterable `range(1, n+1)` = $ 1, 2, 3, 4 $\n",
    "\n",
    "In sequence, `reduce` applies multiplication as follows:\n",
    "\n",
    "    range(1, n+1) =  1  2       3       4\n",
    "                     ↓  ↓       ↓       ↓  \n",
    "            multiply(1, 2) = 2  ↓       ↓\n",
    "                             ↓  ↓       ↓\n",
    "                    multiply(2, 3) = 6  ↓\n",
    "                                     ↓  ↓\n",
    "                            multiply(6, 4) = 24\n",
    "            "
   ]
  },
  {
   "cell_type": "markdown",
   "metadata": {},
   "source": [
    "<span style=\"color:MediumBlue\">These example shows how object-oriented programming may be more conceptually-friendly but can complicate simple numerical tasks.</span>\n",
    "\n",
    "But some tasks require so much information that it's easier to store them as Object attributes (variables that Objects hold) rather than pass them as function parameters. If you want to use this object-oriented approach, the more proper implementation is to create a custom class:"
   ]
  },
  {
   "cell_type": "code",
   "execution_count": null,
   "metadata": {
    "ExecuteTime": {
     "end_time": "2022-05-21T14:45:09.565406Z",
     "start_time": "2022-05-21T14:45:09.559314Z"
    }
   },
   "outputs": [],
   "source": [
    "class Adder:\n",
    "    def __init__(self, a, b):\n",
    "        self.a = a\n",
    "        self.b = b\n",
    "    \n",
    "    def a_plus_b(self):\n",
    "        return self.a + self.b\n",
    "\n",
    "adder_object = Adder(5, 3)\n",
    "adder_object.a_plus_b()"
   ]
  },
  {
   "cell_type": "markdown",
   "metadata": {
    "tags": []
   },
   "source": [
    "### Local vs. global scope"
   ]
  },
  {
   "cell_type": "markdown",
   "metadata": {},
   "source": [
    "<span style=\"color:Red\">**Functions should always be passed all of the values that they need and should **NOT** rely on variables defined outside of them (global variables).  The variables that exist within a function (local variables) will disappear after the return.**</span>"
   ]
  },
  {
   "cell_type": "code",
   "execution_count": null,
   "metadata": {
    "tags": []
   },
   "outputs": [],
   "source": [
    "# GOOD\n",
    "def properly_scoped_function(a, b):\n",
    "    return a + b\n",
    "\n",
    "# BAD\n",
    "def function_that_uses_global_variables(b):\n",
    "    return a + b\n",
    "\n",
    "a = 1\n",
    "print(function_that_uses_global_variables(2))\n",
    "a = 3\n",
    "print(function_that_uses_global_variables(2))"
   ]
  },
  {
   "cell_type": "markdown",
   "metadata": {
    "tags": []
   },
   "source": [
    "In `function_that_uses_global_variables`, we get different results depending on the value of `a` outside of the function, which can cause very nasty bugs.\n",
    "\n",
    "The best (read: safest) way to use global variables is through class attributes\n",
    "\n",
    "A simple example is shown below, where 2 and 3 are used as global variables for the doubler and tripler respectively:"
   ]
  },
  {
   "cell_type": "code",
   "execution_count": null,
   "metadata": {},
   "outputs": [],
   "source": [
    "class Multiplier:\n",
    "    def __init__(self, f):\n",
    "        self.factor = f\n",
    "    \n",
    "    def multiply(self, x):\n",
    "        return self.factor*x\n",
    "\n",
    "doubler = Multiplier(2)\n",
    "tripler = Multiplier(3)\n",
    "\n",
    "print(doubler.multiply(4))\n",
    "print(tripler.multiply(4))"
   ]
  },
  {
   "cell_type": "markdown",
   "metadata": {},
   "source": [
    "<span style=\"color:MediumBlue\">Globals can also be defined within functions, using the `global` keyword</span>"
   ]
  },
  {
   "cell_type": "code",
   "execution_count": null,
   "metadata": {},
   "outputs": [],
   "source": [
    "def make_global(x):\n",
    "    global my_global\n",
    "    my_global = x\n",
    "\n",
    "make_global(\"tree\")\n",
    "print(my_global)"
   ]
  },
  {
   "cell_type": "markdown",
   "metadata": {},
   "source": [
    "Even though the variable `my_global` does not originally exist in the scope of the print statement, the function creates a global that is visible to the print statement"
   ]
  },
  {
   "cell_type": "code",
   "execution_count": null,
   "metadata": {},
   "outputs": [],
   "source": [
    "def update_global_fail(x):\n",
    "    my_global = x\n",
    "\n",
    "def update_global_success(x):\n",
    "    global my_global\n",
    "    my_global = x\n",
    "\n",
    "update_global_fail(\"hello!\")\n",
    "print(my_global)\n",
    "\n",
    "update_global_success(67)\n",
    "print(my_global)"
   ]
  },
  {
   "cell_type": "markdown",
   "metadata": {},
   "source": [
    "<span style=\"color:MediumBlue\">Updating a global from inside a function also requires the use of the `global` keyword, otherwise the variable is used in local scope only</span>"
   ]
  },
  {
   "cell_type": "code",
   "execution_count": 36,
   "metadata": {},
   "outputs": [
    {
     "name": "stdout",
     "output_type": "stream",
     "text": [
      "5\n",
      "new global? don't think so\n",
      "67\n"
     ]
    }
   ],
   "source": [
    "def use_global_param(my_global):\n",
    "    print(my_global)\n",
    "\n",
    "def use_global_local():\n",
    "    my_global = \"new global? don't think so\"\n",
    "    print(my_global)\n",
    "\n",
    "def use_global_success():\n",
    "    print(my_global)\n",
    "\n",
    "use_global_param(5)\n",
    "use_global_local()\n",
    "use_global_success()"
   ]
  },
  {
   "cell_type": "markdown",
   "metadata": {},
   "source": [
    "<span style=\"color:Red\">Passing a parameter with the same name as a global variable will cause the global to be ignored in the scope of that function. Only the locally-scoped parameter will be used</span>\n",
    "\n",
    "<span style=\"color:MediumBlue\">Assigning something to a variable with the same name as a global variable (without using the `global` keyword) will create a **local-only** variable that will be seen by the rest of the function. The actual global variable will be unchanged.</span>\n",
    "\n",
    "<span style=\"color:MediumBlue\">Globals can be utilized (but not changed) inside of functions without using the `global` keyword</span>"
   ]
  },
  {
   "cell_type": "markdown",
   "metadata": {},
   "source": [
    "# Modules"
   ]
  },
  {
   "cell_type": "markdown",
   "metadata": {},
   "source": [
    "One of the strengths of Python is that there are many built-in add-ons - or\n",
    "*modules* - which contain existing functions, classes, and variables which allow you to do complex tasks in only a few lines of code. In addition, there are many other third-party modules (e.g. Numpy, Scipy, Matplotlib, Astropy) that can be installed, and you can also develop your own modules that include functionalities you commonly use."
   ]
  },
  {
   "cell_type": "markdown",
   "metadata": {},
   "source": [
    "The built-in modules are referred to as the *Standard Library*, and you can\n",
    "find a full list of the available functionality in the [Python Documentation](http://docs.python.org/3/library/index.html).  Because these modules exist, it means that if what you want to do is very common, it means it probably already exists, and you won't need to write it (making your code easier to read)."
   ]
  },
  {
   "cell_type": "markdown",
   "metadata": {},
   "source": [
    "<span style=\"color:Red\">**To use modules in your Python session or script, you need to import them**.</span>  For example, the let's import the ``numpy`` module, which contains useful functions for finding e.g. the mean, median, and standard deviation of a sequence of numbers:"
   ]
  },
  {
   "cell_type": "code",
   "execution_count": null,
   "metadata": {
    "ExecuteTime": {
     "end_time": "2022-05-21T14:02:46.800840Z",
     "start_time": "2022-05-21T14:02:46.798232Z"
    }
   },
   "outputs": [],
   "source": [
    "import numpy as np"
   ]
  },
  {
   "cell_type": "code",
   "execution_count": null,
   "metadata": {
    "ExecuteTime": {
     "end_time": "2022-05-21T14:02:46.972767Z",
     "start_time": "2022-05-21T14:02:46.968498Z"
    }
   },
   "outputs": [],
   "source": [
    "li = [1, 2, 7, 3, 1, 3]\n",
    "np.mean(li)"
   ]
  },
  {
   "cell_type": "code",
   "execution_count": null,
   "metadata": {
    "ExecuteTime": {
     "end_time": "2022-05-21T14:02:52.440724Z",
     "start_time": "2022-05-21T14:02:52.436439Z"
    }
   },
   "outputs": [],
   "source": [
    "np.median(li)"
   ]
  },
  {
   "cell_type": "code",
   "execution_count": null,
   "metadata": {
    "ExecuteTime": {
     "end_time": "2022-05-21T14:02:55.193554Z",
     "start_time": "2022-05-21T14:02:55.189511Z"
    }
   },
   "outputs": [],
   "source": [
    "np.std(li)"
   ]
  },
  {
   "cell_type": "markdown",
   "metadata": {},
   "source": [
    "Notice that in the above case, we used:\n",
    "\n",
    "    import numpy as np\n",
    "    \n",
    "instead of:\n",
    "\n",
    "    import numpy\n",
    "    \n",
    "which shows that we can rename the module so that it's not as long to type in the program."
   ]
  },
  {
   "cell_type": "markdown",
   "metadata": {},
   "source": [
    "<span style=\"color:Red\">**Finally, it's also possible to simply import the functions needed directly:**</span>"
   ]
  },
  {
   "cell_type": "code",
   "execution_count": null,
   "metadata": {
    "ExecuteTime": {
     "end_time": "2022-05-21T14:03:23.819476Z",
     "start_time": "2022-05-21T14:03:23.816224Z"
    },
    "tags": []
   },
   "outputs": [],
   "source": [
    "from numpy import sin, cos\n",
    "sin(3.4)\n",
    "cos(3.4)"
   ]
  },
  {
   "cell_type": "markdown",
   "metadata": {},
   "source": [
    "You may find examples on the internet that use e.g.\n",
    "\n",
    "    from module import *\n",
    "    \n",
    "<span style=\"color:Red\">but this is **not** recommended</span>, because it will make it difficult to debug programs, since common debugging tools that rely on just looking at the programs will not know all the functions that are being imported."
   ]
  },
  {
   "cell_type": "markdown",
   "metadata": {},
   "source": [
    "## Commonly used modules outside standard library - NumPy and Matplotlib"
   ]
  },
  {
   "cell_type": "markdown",
   "metadata": {},
   "source": [
    "<span style=\"color:MediumBlue\">There are many modules that are frequently used in astronomical data analysis. One of these modules, which has already been mentioned in this tutorial, is `NumPy`. NumPy provides an n-dimensional array object and routines for these objects (sorting, selecting, basic linear algebra and stats, among many others).</span> \n",
    "\n",
    "The NumPy array is similar to the list data type in the sense that it acts as a container to store Python objects, but there are several reasons that you would want to use a numpy array over a list in scientific computing.\n",
    "\n",
    "1. <span style=\"color:MediumBlue\">NumPy arrays allow quick mathematical and other types of operations on large numbers of data. These operations are vectorized - absent of any explicit looping - in pre-compiled C code. For example, image convolution using 2D numpy ndarrays is significantly faster than looping over pixel values to do the computation.</span> \n",
    "\n",
    "2. <span style=\"color:MediumBlue\">The NumPy modules has a large number of built in methods that operate on NumPy arrays. This makes code more consise and readable. For example, to calculate the standard deviation of a list of numbers in the absense of NumPy would require a block of code. With Numpy, it can be done in one line by calling the numpy.std() function.</span>  \n",
    "\n",
    "2. <span style=\"color:MediumBlue\">Many existing python modules use NumPy arrays - it seems to be, logically, the default method of storing Python objects, particularly numerical data, in scientific computing.</span> \n",
    "\n",
    "<span style=\"color:MediumBlue\">Another commonly used module is `matplotlib` that both allows for the creation of plots (histograms, scatter, etc.) quickly with single function calls, as well the option for a high level of customization. </span> \n",
    "\n",
    "Let's use NumPy and matplotlib to show what can be done with a 2D image."
   ]
  },
  {
   "cell_type": "markdown",
   "metadata": {},
   "source": [
    "First create a 2D image. The numpy `arange` function will give a 1D array of numbers between the upper and lower value specified. The `reshape` method on the array will reshape this 1D array into a 10x10 2D array."
   ]
  },
  {
   "cell_type": "code",
   "execution_count": null,
   "metadata": {
    "ExecuteTime": {
     "end_time": "2022-05-21T14:05:38.810659Z",
     "start_time": "2022-05-21T14:05:38.807452Z"
    }
   },
   "outputs": [],
   "source": [
    "import numpy as np\n",
    "array_2d = np.array(np.arange(0, 100).reshape(10, 10))\n",
    "print(array_2d)"
   ]
  },
  {
   "cell_type": "markdown",
   "metadata": {},
   "source": [
    "We can visualize this array (or any other 2D image) with matplotlib. Let's show this array as a greyscale image, and add a colorbar and a title."
   ]
  },
  {
   "cell_type": "code",
   "execution_count": null,
   "metadata": {
    "ExecuteTime": {
     "end_time": "2022-05-21T14:06:16.044849Z",
     "start_time": "2022-05-21T14:06:14.395849Z"
    }
   },
   "outputs": [],
   "source": [
    "import matplotlib.pyplot as plt\n",
    "fig, ax = plt.subplots()\n",
    "p = ax.imshow(array_2d, cmap = 'Greys')\n",
    "fig.colorbar(p)\n",
    "ax.set_title('Test Image')"
   ]
  },
  {
   "cell_type": "markdown",
   "metadata": {},
   "source": [
    "Let's say we'd like to edit a 3x3 box at the top left corner of this image. We can do this by indexing the 2d array and assigning that portion to a value -999. The convention for array indexing in Python is y,x. "
   ]
  },
  {
   "cell_type": "code",
   "execution_count": null,
   "metadata": {
    "ExecuteTime": {
     "end_time": "2022-05-21T14:06:40.228667Z",
     "start_time": "2022-05-21T14:06:39.986777Z"
    }
   },
   "outputs": [],
   "source": [
    "array_2d[0:3, 0:3] = 100 #rows 0 through 3, columns 0 through 3 set to 100\n",
    "fig, ax = plt.subplots()\n",
    "p = ax.imshow(array_2d, cmap = 'Greys')\n",
    "fig.colorbar(p)\n",
    "ax.set_title('Test Image')"
   ]
  },
  {
   "cell_type": "markdown",
   "metadata": {},
   "source": [
    "## Combining Numpy with Functions using Decorators"
   ]
  },
  {
   "cell_type": "markdown",
   "metadata": {},
   "source": [
    "It is often easier to write functions that operate on scalars rather than assume the input to be an iterable, as below:"
   ]
  },
  {
   "cell_type": "code",
   "execution_count": 37,
   "metadata": {},
   "outputs": [],
   "source": [
    "def my_function(x):\n",
    "    if(x%2 == 0):\n",
    "        return x/2\n",
    "    else:\n",
    "        return x+1"
   ]
  },
  {
   "cell_type": "markdown",
   "metadata": {},
   "source": [
    "If we wanted to apply this function to a list, it would fail:"
   ]
  },
  {
   "cell_type": "code",
   "execution_count": null,
   "metadata": {},
   "outputs": [],
   "source": [
    "print(my_function([1, 2, 3, 4, 5]))"
   ]
  },
  {
   "cell_type": "markdown",
   "metadata": {},
   "source": [
    "So instead, we would need to iterate over the list:"
   ]
  },
  {
   "cell_type": "code",
   "execution_count": 39,
   "metadata": {},
   "outputs": [
    {
     "name": "stdout",
     "output_type": "stream",
     "text": [
      "2\n",
      "1.0\n",
      "4\n",
      "2.0\n",
      "6\n"
     ]
    }
   ],
   "source": [
    "for ele in [1, 2, 3, 4, 5]:\n",
    "    print(my_function(ele))"
   ]
  },
  {
   "cell_type": "markdown",
   "metadata": {},
   "source": [
    "Numpy makes this process easier by allowing us to \"decorate\" the function\n",
    "\n",
    "<span style=\"color:Red\">Decorators act as wrappers - they add extra functionality to a function or class</span>\n",
    "\n",
    "<span style=\"color:MediumBlue\">Decorators are denoted with an `@`</span>\n",
    "\n",
    "numpy has a `vectorize` dectorator that lets a function that would normally operate on a scalar operate on an array:"
   ]
  },
  {
   "cell_type": "code",
   "execution_count": 4,
   "metadata": {},
   "outputs": [
    {
     "name": "stdout",
     "output_type": "stream",
     "text": [
      "[2 1 4 2 6]\n"
     ]
    }
   ],
   "source": [
    "@np.vectorize\n",
    "def my_vectorized_function(x):\n",
    "    if(x%2 == 0):\n",
    "        return x/2\n",
    "    else:\n",
    "        return x+1\n",
    "\n",
    "print(my_vectorized_function([1, 2, 3, 4, 5]))"
   ]
  },
  {
   "cell_type": "markdown",
   "metadata": {},
   "source": [
    "This is similar to using python's built in `map()` function.\n",
    "\n",
    "We can time their behavior below for comparison:"
   ]
  },
  {
   "cell_type": "code",
   "execution_count": 2,
   "metadata": {},
   "outputs": [],
   "source": [
    "import time"
   ]
  },
  {
   "cell_type": "code",
   "execution_count": 5,
   "metadata": {},
   "outputs": [
    {
     "data": {
      "image/png": "[encoded data removed]",
      "text/plain": [
       "<Figure size 1200x700 with 1 Axes>"
      ]
     },
     "metadata": {},
     "output_type": "display_data"
    }
   ],
   "source": [
    "import matplotlib.pyplot as plt\n",
    "import numpy as np\n",
    "\n",
    "def my_function(x):\n",
    "    if(x%2 == 0):\n",
    "        return x/2\n",
    "    else:\n",
    "        return x+1\n",
    "\n",
    "def loop_my_funct(li):\n",
    "    result = []\n",
    "    for ele in li:\n",
    "        result.append(my_function(ele))\n",
    "    return result\n",
    "\n",
    "def list_comp(li):\n",
    "    return [x/2 if (x%2 ==0) else x+1 for x in li]\n",
    "\n",
    "def map_apply(li):\n",
    "    return map(my_function, li)\n",
    "\n",
    "ns = np.linspace(10, 100000, 101)\n",
    "loop_time = []\n",
    "vectorize_time = []\n",
    "comp_time = []\n",
    "map_time = []\n",
    "\n",
    "\n",
    "for n in ns:\n",
    "    test_list_1 = np.random.rand(int(n))\n",
    "    \n",
    "    start_loop = time.time()\n",
    "    loop_result = loop_my_funct(test_list_1)\n",
    "    end_loop = time.time()\n",
    "    loop_time.append((end_loop-start_loop)*10**3)\n",
    "    \n",
    "    start_vectorize = time.time()\n",
    "    vectorize_result = my_vectorized_function(test_list_1)\n",
    "    end_vectorize = time.time()\n",
    "    vectorize_time.append((end_vectorize-start_vectorize)*10**3)\n",
    "\n",
    "    start_list_comprehension = time.time()\n",
    "    comp_result = list_comp(test_list_1)\n",
    "    end_list_comprehension = time.time()\n",
    "    comp_time.append((end_list_comprehension-start_list_comprehension)*10**3)\n",
    "\n",
    "    start_map = time.time()\n",
    "    map_result = map_apply(test_list_1)\n",
    "    end_map = time.time()\n",
    "    map_time.append((end_map-start_map)*10**3)\n",
    "\n",
    "plt.figure(figsize=(12, 7))\n",
    "plt.plot(ns, loop_time, label=\"Looping\")\n",
    "plt.plot(ns, vectorize_time, label=\"Np.Vectorize\")\n",
    "plt.plot(ns, comp_time, label=\"List Comprehension\")\n",
    "plt.plot(ns, map_time, label=\"Map()\")\n",
    "plt.xlabel(\"Size of array\")\n",
    "plt.ylabel(\"Time (ms)\")\n",
    "plt.legend()\n",
    "plt.show()"
   ]
  },
  {
   "cell_type": "markdown",
   "metadata": {},
   "source": [
    "Notice that vectorize is actually slower than the for-loop\n",
    "\n",
    "This is because this particular decorator is designed for convenience and readbility, not speed.\n",
    "\n",
    "We'll look at the map(function) in particular below, as a tie-in to our discussion of functional programming above:"
   ]
  },
  {
   "cell_type": "code",
   "execution_count": 7,
   "metadata": {},
   "outputs": [
    {
     "data": {
      "image/png": "[encoded data removed]",
      "text/plain": [
       "<Figure size 1200x700 with 1 Axes>"
      ]
     },
     "metadata": {},
     "output_type": "display_data"
    }
   ],
   "source": [
    "ns = np.logspace(2, 20, 1001) # 10^2 => 10^20\n",
    "n_loop = 100\n",
    "\n",
    "map_time=[]\n",
    "for i in range(n_loop):\n",
    "    temp_map_time = []\n",
    "    for num in ns:\n",
    "        test_list = np.random.rand(int(n))\n",
    "        start_map = time.time()\n",
    "        map_result = map_apply(test_list)\n",
    "        end_map = time.time()\n",
    "        #print(str(num) + \" len : \" + str(len(test_list)) + \" took: \" + str((end_map-start_map)*10**3))\n",
    "        temp_map_time.append((end_map-start_map)*10**3)\n",
    "    map_time.append(temp_map_time)\n",
    "\n",
    "\n",
    "plt.figure(figsize=(12, 7))\n",
    "\n",
    "mean_map_time = np.mean(map_time, axis=0) # take the average across many tests to hide outliers\n",
    "\n",
    "plt.plot(ns, mean_map_time)\n",
    "    \n",
    "plt.xlabel(\"Size of array\")\n",
    "plt.ylabel(\"Time (ms)\")\n",
    "plt.show()"
   ]
  },
  {
   "cell_type": "markdown",
   "metadata": {},
   "source": [
    "Even with $10^{20}$ inputs, `map()` finishes in $~ 0.35 \\mu s$!"
   ]
  },
  {
   "cell_type": "code",
   "execution_count": null,
   "metadata": {},
   "outputs": [],
   "source": []
  }
 ],
 "metadata": {
  "anaconda-cloud": {},
  "kernelspec": {
   "display_name": "Python 3 (ipykernel)",
   "language": "python",
   "name": "python3"
  },
  "language_info": {
   "codemirror_mode": {
    "name": "ipython",
    "version": 3
   },
   "file_extension": ".py",
   "mimetype": "text/x-python",
   "name": "python",
   "nbconvert_exporter": "python",
   "pygments_lexer": "ipython3",
   "version": "3.11.4"
  },
  "toc": {
   "base_numbering": 1,
   "nav_menu": {},
   "number_sections": true,
   "sideBar": true,
   "skip_h1_title": false,
   "title_cell": "Table of Contents",
   "title_sidebar": "Contents",
   "toc_cell": false,
   "toc_position": {},
   "toc_section_display": true,
   "toc_window_display": false
  }
 },
 "nbformat": 4,
 "nbformat_minor": 4
}
