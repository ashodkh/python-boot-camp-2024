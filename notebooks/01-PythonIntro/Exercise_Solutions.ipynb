{
 "cells": [
  {
   "cell_type": "markdown",
   "id": "8d08a127-d665-48ec-91f7-f280f15438db",
   "metadata": {},
   "source": [
    "# Lesson 2 - Data Structures"
   ]
  },
  {
   "cell_type": "markdown",
   "id": "a11937a8-22da-4e28-982b-52928e5c8c45",
   "metadata": {},
   "source": [
    "## Exercise 1:"
   ]
  },
  {
   "cell_type": "code",
   "execution_count": 1,
   "id": "2c41f021-def6-4433-b6b2-7ab87f632e6e",
   "metadata": {},
   "outputs": [
    {
     "name": "stdout",
     "output_type": "stream",
     "text": [
      "1016.8550021506762\n"
     ]
    }
   ],
   "source": [
    "# A helpful constant. You can leave this part unchanged\n",
    "import math\n",
    "pi = math.pi\n",
    "\n",
    "# YOUR CODE BELOW\n",
    "r = 5.5\n",
    "h = 10.7\n",
    "\n",
    "cylinder_volume = h*pi*r**2\n",
    "\n",
    "print(cylinder_volume)"
   ]
  },
  {
   "cell_type": "markdown",
   "id": "27334c27-584f-4710-a4a0-b69bee8b3758",
   "metadata": {},
   "source": [
    "## Exercise 2"
   ]
  },
  {
   "cell_type": "code",
   "execution_count": 2,
   "id": "a80cdf24-497f-4db5-8f87-fcbd6c68cad5",
   "metadata": {},
   "outputs": [
    {
     "name": "stdout",
     "output_type": "stream",
     "text": [
      "Hello, world!\n"
     ]
    }
   ],
   "source": [
    "a = \"Hello, egg world!\"\n",
    "\n",
    "sol = a[:7]+a[11:]\n",
    "print(sol)"
   ]
  },
  {
   "cell_type": "markdown",
   "id": "619a84ac-1742-4ff8-b902-fe81c2479575",
   "metadata": {},
   "source": [
    "### part 2"
   ]
  },
  {
   "cell_type": "code",
   "execution_count": 3,
   "id": "8dd9e416-1b54-4edd-ae88-1c0dc8f8060b",
   "metadata": {},
   "outputs": [
    {
     "name": "stdout",
     "output_type": "stream",
     "text": [
      "Hello,  world!\n"
     ]
    }
   ],
   "source": [
    "sol = a[:a.index(\"egg\")] + a[3+a.index(\"egg\"):]\n",
    "print(sol)"
   ]
  },
  {
   "cell_type": "markdown",
   "id": "5f702c01-1070-4017-a2a2-bc191fd579f5",
   "metadata": {},
   "source": [
    "# Lesson 3 - Control Flow"
   ]
  },
  {
   "cell_type": "markdown",
   "id": "892b584e-e2af-4338-b6ab-a6716f2a503b",
   "metadata": {},
   "source": [
    "## Exercise 1"
   ]
  },
  {
   "cell_type": "code",
   "execution_count": 8,
   "id": "05d4bb61-40cc-46e0-8d2e-6e0649cea6fa",
   "metadata": {},
   "outputs": [
    {
     "name": "stdout",
     "output_type": "stream",
     "text": [
      "[2, 3, 5, 7, 11, 13, 17, 19, 23, 29, 31, 37, 41, 43, 47, 53, 59, 61, 67, 71, 73, 79, 83, 89, 97, 101, 103, 107, 109, 113, 127, 131, 137, 139, 149, 151, 157, 163, 167, 173, 179, 181, 191, 193, 197, 199, 211, 223, 227, 229, 233, 239, 241, 251, 257, 263, 269, 271, 277, 281, 283, 293, 307, 311, 313, 317, 331, 337, 347, 349, 353, 359, 367, 373, 379, 383, 389, 397, 401, 409, 419, 421, 431, 433, 439, 443, 449, 457, 461, 463, 467, 479, 487, 491, 499, 503, 509, 521, 523, 541, 547, 557, 563, 569, 571, 577, 587, 593, 599, 601, 607, 613, 617, 619, 631, 641, 643, 647, 653, 659, 661, 673, 677, 683, 691, 701, 709, 719, 727, 733, 739, 743, 751, 757, 761, 769, 773, 787, 797, 809, 811, 821, 823, 827, 829, 839, 853, 857, 859, 863, 877, 881, 883, 887, 907, 911, 919, 929, 937, 941, 947, 953, 967, 971, 977, 983, 991, 997]\n"
     ]
    }
   ],
   "source": [
    "primes = []\n",
    "for num in range(2, 1000):\n",
    "    found_factor = False\n",
    "    for i in range(2, num):\n",
    "        if (num % i) == 0:\n",
    "            found_factor = True\n",
    "    if(not found_factor):\n",
    "        primes.append(num)\n",
    "\n",
    "print(primes)"
   ]
  },
  {
   "cell_type": "markdown",
   "id": "fd33f06b-90f7-43b3-8f87-8c40ec9a2e66",
   "metadata": {},
   "source": [
    "## Exercise 2"
   ]
  },
  {
   "cell_type": "code",
   "execution_count": 9,
   "id": "1bf674e7-aeb8-4224-85be-aca6ab41a993",
   "metadata": {},
   "outputs": [
    {
     "name": "stdout",
     "output_type": "stream",
     "text": [
      "[2, 3, 5, 7, 11, 13, 17, 19, 23, 29, 31, 37, 41, 43, 47, 53, 59, 61, 67, 71, 73, 79, 83, 89, 97, 101, 103, 107, 109, 113, 127, 131, 137, 139, 149, 151, 157, 163, 167, 173, 179, 181, 191, 193, 197, 199, 211, 223, 227, 229, 233, 239, 241, 251, 257, 263, 269, 271, 277, 281, 283, 293, 307, 311, 313, 317, 331, 337, 347, 349, 353, 359, 367, 373, 379, 383, 389, 397, 401, 409, 419, 421, 431, 433, 439, 443, 449, 457, 461, 463, 467, 479, 487, 491, 499, 503, 509, 521, 523, 541, 547, 557, 563, 569, 571, 577, 587, 593, 599, 601, 607, 613, 617, 619, 631, 641, 643, 647, 653, 659, 661, 673, 677, 683, 691, 701, 709, 719, 727, 733, 739, 743, 751, 757, 761, 769, 773, 787, 797, 809, 811, 821, 823, 827, 829, 839, 853, 857, 859, 863, 877, 881, 883, 887, 907, 911, 919, 929, 937, 941, 947, 953, 967, 971, 977, 983, 991, 997]\n"
     ]
    }
   ],
   "source": [
    "primes = []\n",
    "for num in range(2, 1000):\n",
    "    for i in range(2, num):\n",
    "        if (num % i) == 0:\n",
    "            break\n",
    "    else:\n",
    "        primes.append(num)\n",
    "\n",
    "print(primes)"
   ]
  },
  {
   "cell_type": "markdown",
   "id": "5de1bd6f-8cb9-4c06-9987-decd1f3867cc",
   "metadata": {},
   "source": [
    "### Exercise 3"
   ]
  },
  {
   "cell_type": "markdown",
   "id": "99fba1bb-8061-4b1a-a073-6fd609435595",
   "metadata": {},
   "source": [
    "Write a program (using a ``while`` loop) that will find the Fibonacci sequence up to (and excluding) 100000. The two first numbers are 0 and 1, and every subsequent number is the sum of the two previous ones, so the sequence starts ``[0, 1, 1, 2, 3, 5, ...]``.\n",
    "\n",
    "Optional: Store the sequence inside a Python list, and only print out the whole list to the screen once all the numbers are available. Then, check whether any of the numbers in the sequence are a square (e.g. ``0*0``, ``1*1``, ``2*2``, ``3*3``, ``4*4``) and print out those that are."
   ]
  },
  {
   "cell_type": "code",
   "execution_count": 10,
   "id": "c5cc6987-affb-4619-8db4-1e6bb91efd20",
   "metadata": {},
   "outputs": [
    {
     "name": "stdout",
     "output_type": "stream",
     "text": [
      "0 1 1 2 3 5 8 13 21 34 55 89 144 233 377 610 987 1597 2584 4181 6765 10946 17711 28657 46368 75025 "
     ]
    }
   ],
   "source": [
    "a = 0\n",
    "b = 1\n",
    "while a < 100000:\n",
    "    print(a, end=' ')\n",
    "    c = a  # save a to old variable\n",
    "    a = b\n",
    "    b = c + b\n"
   ]
  },
  {
   "cell_type": "markdown",
   "id": "9d135693-b44b-49c0-a736-2efd07ec8e71",
   "metadata": {},
   "source": [
    "OR"
   ]
  },
  {
   "cell_type": "code",
   "execution_count": 11,
   "id": "1422600d-c9bb-4177-8bf4-2eb834895fda",
   "metadata": {},
   "outputs": [
    {
     "name": "stdout",
     "output_type": "stream",
     "text": [
      "0 1 1 2 3 5 8 13 21 34 55 89 144 233 377 610 987 1597 2584 4181 6765 10946 17711 28657 46368 75025 "
     ]
    }
   ],
   "source": [
    "a, b = 0, 1\n",
    "while a < 100000:\n",
    "    print(a, end=' ')\n",
    "    a, b = b, a + b"
   ]
  },
  {
   "cell_type": "markdown",
   "id": "fd6aac27-c610-409e-8373-a8c0938ec5d4",
   "metadata": {},
   "source": [
    "OR"
   ]
  },
  {
   "cell_type": "code",
   "execution_count": 12,
   "id": "d4a4db2b-8873-4371-8929-7ed616ff97d4",
   "metadata": {},
   "outputs": [
    {
     "name": "stdout",
     "output_type": "stream",
     "text": [
      "[0, 1, 1, 2, 3, 5, 8, 13, 21, 34, 55, 89, 144, 233, 377, 610, 987, 1597, 2584, 4181, 6765, 10946, 17711, 28657, 46368, 75025]\n"
     ]
    }
   ],
   "source": [
    "fib = [0, 1]\n",
    "while fib[-1] + fib[-2] < 100000:\n",
    "    fib.append(fib[-1] + fib[-2])\n",
    "print(fib)"
   ]
  },
  {
   "cell_type": "code",
   "execution_count": 16,
   "id": "490f1f26-f048-4f2b-bb2e-cab99fef7439",
   "metadata": {},
   "outputs": [
    {
     "name": "stdout",
     "output_type": "stream",
     "text": [
      "[0, 1, 1, 144]\n"
     ]
    }
   ],
   "source": [
    "squares_list = []\n",
    "for num in fib:\n",
    "    for test_factor in range(math.ceil(num**(1/2))+1):\n",
    "        if(test_factor**2 == num):\n",
    "            squares_list.append(num)\n",
    "\n",
    "print(squares_list)"
   ]
  },
  {
   "cell_type": "markdown",
   "id": "66300bbd-9d37-440f-8154-8198b95cb896",
   "metadata": {},
   "source": [
    "# Lesson 4"
   ]
  },
  {
   "cell_type": "markdown",
   "id": "8e7bbaf2-6413-41a6-a4d0-3c196aa1a5c4",
   "metadata": {},
   "source": [
    "## Exercise 1"
   ]
  },
  {
   "cell_type": "code",
   "execution_count": 19,
   "id": "bad6a985-c146-4626-b636-b105872a0a7e",
   "metadata": {},
   "outputs": [
    {
     "name": "stdout",
     "output_type": "stream",
     "text": [
      "True\n",
      "True\n",
      "False\n",
      "True\n"
     ]
    }
   ],
   "source": [
    "def is_prime(number):\n",
    "    \"\"\"Return a list of all primes up to `max_prime`\"\"\"\n",
    "    \n",
    "    primes = []\n",
    "    for num in range(2, 1+(number//2)):\n",
    "        if (number % num) == 0:\n",
    "            return False\n",
    "    return True\n",
    "\n",
    "print(is_prime(2))\n",
    "print(is_prime(3))\n",
    "print(is_prime(8))\n",
    "print(is_prime(71))"
   ]
  },
  {
   "cell_type": "markdown",
   "id": "ebe511d0-5bac-4dcc-a528-fd98665abc4d",
   "metadata": {},
   "source": [
    "## Exercise 2"
   ]
  },
  {
   "cell_type": "code",
   "execution_count": 21,
   "id": "60f228d3-7b45-4daf-aedc-dff0d66e391c",
   "metadata": {},
   "outputs": [
    {
     "name": "stdout",
     "output_type": "stream",
     "text": [
      "24\n"
     ]
    }
   ],
   "source": [
    "def factorial(n):\n",
    "    result = 1\n",
    "    while(n>1):\n",
    "        result *= n\n",
    "        n-=1\n",
    "    return result\n",
    "\n",
    "print(factorial(4))"
   ]
  },
  {
   "cell_type": "code",
   "execution_count": null,
   "id": "fc6bdc7e-bc95-4f67-a76b-86df7061755e",
   "metadata": {},
   "outputs": [],
   "source": []
  }
 ],
 "metadata": {
  "kernelspec": {
   "display_name": "Python 3 (ipykernel)",
   "language": "python",
   "name": "python3"
  },
  "language_info": {
   "codemirror_mode": {
    "name": "ipython",
    "version": 3
   },
   "file_extension": ".py",
   "mimetype": "text/x-python",
   "name": "python",
   "nbconvert_exporter": "python",
   "pygments_lexer": "ipython3",
   "version": "3.11.4"
  }
 },
 "nbformat": 4,
 "nbformat_minor": 5
}
